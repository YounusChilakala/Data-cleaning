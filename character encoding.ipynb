{
 "cells": [
  {
   "cell_type": "code",
   "execution_count": 2,
   "id": "468c451e",
   "metadata": {},
   "outputs": [],
   "source": [
    "import pandas as pd\n",
    "import numpy as np\n",
    "import chardet\n",
    "\n",
    "# helpful character encoding module\n",
    "import charset_normalizer"
   ]
  },
  {
   "cell_type": "code",
   "execution_count": null,
   "id": "39c595d2",
   "metadata": {},
   "outputs": [],
   "source": [
    "sample_entry = b'\\xa7A\\xa6n'\n",
    "print(sample_entry)\n",
    "print('data type:', type(sample_entry))"
   ]
  },
  {
   "cell_type": "code",
   "execution_count": null,
   "id": "ce1f8984",
   "metadata": {},
   "outputs": [],
   "source": [
    "before = sample_entry.decode(\"big5-tw\")\n",
    "new_entry = before.encode()"
   ]
  },
  {
   "cell_type": "code",
   "execution_count": null,
   "id": "f9a264d1",
   "metadata": {},
   "outputs": [],
   "source": [
    "new_entry"
   ]
  },
  {
   "cell_type": "code",
   "execution_count": null,
   "id": "fe470f00",
   "metadata": {},
   "outputs": [],
   "source": [
    "with open(r\"C:\\Users\\YOUNUS\\Downloads\\PoliceKillingsUS.csv\", 'rb') as f:    #rb is reading as binary\n",
    "    data = f.read()\n",
    "\n",
    "# Detect encoding of the data\n",
    "encoding = chardet.detect(data)['encoding']\n",
    "encoding"
   ]
  },
  {
   "cell_type": "code",
   "execution_count": null,
   "id": "fbb8d9b4",
   "metadata": {},
   "outputs": [],
   "source": [
    "police_killings=pd.read_csv(r\"C:\\Users\\YOUNUS\\Downloads\\PoliceKillingsUS.csv\",encoding='Windows-1252')"
   ]
  },
  {
   "cell_type": "code",
   "execution_count": null,
   "id": "a774e091",
   "metadata": {},
   "outputs": [],
   "source": [
    "police_killings"
   ]
  },
  {
   "cell_type": "code",
   "execution_count": null,
   "id": "9531d9b0",
   "metadata": {},
   "outputs": [],
   "source": [
    "police_killings.to_csv(\"my_file.csv\") # to save the corrected file "
   ]
  }
 ],
 "metadata": {
  "kernelspec": {
   "display_name": "Python 3 (ipykernel)",
   "language": "python",
   "name": "python3"
  },
  "language_info": {
   "codemirror_mode": {
    "name": "ipython",
    "version": 3
   },
   "file_extension": ".py",
   "mimetype": "text/x-python",
   "name": "python",
   "nbconvert_exporter": "python",
   "pygments_lexer": "ipython3",
   "version": "3.9.12"
  }
 },
 "nbformat": 4,
 "nbformat_minor": 5
}
